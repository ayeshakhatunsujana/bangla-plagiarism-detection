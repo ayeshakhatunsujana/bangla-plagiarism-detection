{
 "cells": [
  {
   "cell_type": "markdown",
   "id": "d22acfca",
   "metadata": {},
   "source": [
    "# Semantic Plagiarism Detection of Bangla: Paraphrase Generation and Sentence Embedding using Language Model\n"
   ]
  },
  {
   "cell_type": "markdown",
   "id": "0cab5162",
   "metadata": {},
   "source": [
    "# Abstract\n",
    "Bangla, the seventh most spoken language in the world, remains underrepresented in the development of advanced NLP tools. Plagiarism detection is especially critical in low-resource languages like Bangla, where traditional plagiarism detection tools often fail to detect complex paraphrasing and semantic similarity. To address this, I have proposed a hybrid approach for semantic plagiarism detection in Bangla by combining paraphrase generation and sentence embedding using Large Language Models (LLMs). Models such as BanglaT5, and multilingual versions of BART are employed for paraphrasing. To measure semantic similarity between original and paraphrased texts, I have used Bangla-BERT. Evaluation metrics including F1-score ans BERTScore are used to assess performance. My findings shows that Bangla-T5 performed good than mBART in different threshold. \n",
    "\n"
   ]
  },
  {
   "cell_type": "markdown",
   "id": "46e57caa",
   "metadata": {},
   "source": [
    "## Research Question\n",
    "How effective is the combination of mBART-based paraphrase generation and sentence embedding techniques in detecting semantic plagiarism in Bangla text?"
   ]
  },
  {
   "cell_type": "markdown",
   "id": "4ce94b34",
   "metadata": {},
   "source": [
    "# Methodology"
   ]
  },
  {
   "cell_type": "markdown",
   "id": "079bac4a",
   "metadata": {},
   "source": [
    "In this project for detecting semantic plagiarism using a hybrid approach. The first part involves paraphrasing, and the second part focuses on sentence embedding. \n",
    "First, I have started with a pair of sentences to check for potential plagiarism. Than, the input sentences transforms the original sentence (S1) into multiple paraphrases (S1_P1, S1_P2, S1_P3, ..., S1_PN) using language models like Bangla-T5 and mBART. \n",
    "Secondly, sentences are turned into vector embeddings using models like Bangla-BERT. I have computed a semantic similarity score between the original and its paraphrase. If this score exceeds a chosen threshold(0.55-0.85), flag it as potential plagiarism. Finally, these similarity scores are used to assess how likely the text contains plagiarized content."
   ]
  },
  {
   "cell_type": "markdown",
   "id": "0759fcad",
   "metadata": {},
   "source": [
    "# Required Dependencies\n",
    "Though I have included the full environment.yml file, where all the necessary dependencies are mentioned for this project. Here also mentioned all install required libraries if not already installed."
   ]
  },
  {
   "cell_type": "code",
   "execution_count": 1,
   "id": "9f2fd07a",
   "metadata": {},
   "outputs": [
    {
     "name": "stdout",
     "output_type": "stream",
     "text": [
      "Defaulting to user installation because normal site-packages is not writeable\n",
      "Requirement already satisfied: transformers in /Users/ayeshakhatun/Library/Python/3.9/lib/python/site-packages (4.27.4)\n",
      "Requirement already satisfied: bert-score in /Users/ayeshakhatun/Library/Python/3.9/lib/python/site-packages (0.3.13)\n",
      "Requirement already satisfied: rouge-score in /Users/ayeshakhatun/Library/Python/3.9/lib/python/site-packages (0.1.2)\n",
      "Requirement already satisfied: indic-nlp-library in /Users/ayeshakhatun/Library/Python/3.9/lib/python/site-packages (0.92)\n",
      "Requirement already satisfied: nltk in /Users/ayeshakhatun/Library/Python/3.9/lib/python/site-packages (3.8.1)\n",
      "Requirement already satisfied: filelock in /Users/ayeshakhatun/Library/Python/3.9/lib/python/site-packages (from transformers) (3.17.0)\n",
      "Requirement already satisfied: huggingface-hub<1.0,>=0.11.0 in /Users/ayeshakhatun/Library/Python/3.9/lib/python/site-packages (from transformers) (0.30.2)\n",
      "Requirement already satisfied: numpy>=1.17 in /Users/ayeshakhatun/Library/Python/3.9/lib/python/site-packages (from transformers) (2.0.2)\n",
      "Requirement already satisfied: packaging>=20.0 in /Users/ayeshakhatun/Library/Python/3.9/lib/python/site-packages (from transformers) (24.2)\n",
      "Requirement already satisfied: pyyaml>=5.1 in /Users/ayeshakhatun/Library/Python/3.9/lib/python/site-packages (from transformers) (6.0.2)\n",
      "Requirement already satisfied: regex!=2019.12.17 in /Users/ayeshakhatun/Library/Python/3.9/lib/python/site-packages (from transformers) (2024.11.6)\n",
      "Requirement already satisfied: requests in /Users/ayeshakhatun/Library/Python/3.9/lib/python/site-packages (from transformers) (2.32.3)\n",
      "Requirement already satisfied: tokenizers!=0.11.3,<0.14,>=0.11.1 in /Users/ayeshakhatun/Library/Python/3.9/lib/python/site-packages (from transformers) (0.13.3)\n",
      "Requirement already satisfied: tqdm>=4.27 in /Users/ayeshakhatun/Library/Python/3.9/lib/python/site-packages (from transformers) (4.67.1)\n",
      "Requirement already satisfied: torch>=1.0.0 in /Users/ayeshakhatun/Library/Python/3.9/lib/python/site-packages (from bert-score) (2.6.0)\n",
      "Requirement already satisfied: pandas>=1.0.1 in /Users/ayeshakhatun/Library/Python/3.9/lib/python/site-packages (from bert-score) (2.2.3)\n",
      "Requirement already satisfied: matplotlib in /Users/ayeshakhatun/Library/Python/3.9/lib/python/site-packages (from bert-score) (3.9.4)\n",
      "Requirement already satisfied: absl-py in /Users/ayeshakhatun/Library/Python/3.9/lib/python/site-packages (from rouge-score) (2.2.2)\n",
      "Requirement already satisfied: six>=1.14.0 in /Library/Developer/CommandLineTools/Library/Frameworks/Python3.framework/Versions/3.9/lib/python3.9/site-packages (from rouge-score) (1.15.0)\n",
      "Requirement already satisfied: sphinx-argparse in /Users/ayeshakhatun/Library/Python/3.9/lib/python/site-packages (from indic-nlp-library) (0.4.0)\n",
      "Requirement already satisfied: sphinx-rtd-theme in /Users/ayeshakhatun/Library/Python/3.9/lib/python/site-packages (from indic-nlp-library) (3.0.2)\n",
      "Requirement already satisfied: morfessor in /Users/ayeshakhatun/Library/Python/3.9/lib/python/site-packages (from indic-nlp-library) (2.0.6)\n",
      "Requirement already satisfied: click in /Users/ayeshakhatun/Library/Python/3.9/lib/python/site-packages (from nltk) (8.1.7)\n",
      "Requirement already satisfied: joblib in /Users/ayeshakhatun/Library/Python/3.9/lib/python/site-packages (from nltk) (1.3.2)\n",
      "Requirement already satisfied: fsspec>=2023.5.0 in /Users/ayeshakhatun/Library/Python/3.9/lib/python/site-packages (from huggingface-hub<1.0,>=0.11.0->transformers) (2024.12.0)\n",
      "Requirement already satisfied: typing-extensions>=3.7.4.3 in /Users/ayeshakhatun/Library/Python/3.9/lib/python/site-packages (from huggingface-hub<1.0,>=0.11.0->transformers) (4.12.2)\n",
      "Requirement already satisfied: python-dateutil>=2.8.2 in /Users/ayeshakhatun/Library/Python/3.9/lib/python/site-packages (from pandas>=1.0.1->bert-score) (2.9.0.post0)\n",
      "Requirement already satisfied: pytz>=2020.1 in /Users/ayeshakhatun/Library/Python/3.9/lib/python/site-packages (from pandas>=1.0.1->bert-score) (2025.2)\n",
      "Requirement already satisfied: tzdata>=2022.7 in /Users/ayeshakhatun/Library/Python/3.9/lib/python/site-packages (from pandas>=1.0.1->bert-score) (2025.2)\n",
      "Requirement already satisfied: networkx in /Users/ayeshakhatun/Library/Python/3.9/lib/python/site-packages (from torch>=1.0.0->bert-score) (3.2.1)\n",
      "Requirement already satisfied: jinja2 in /Users/ayeshakhatun/Library/Python/3.9/lib/python/site-packages (from torch>=1.0.0->bert-score) (3.1.5)\n",
      "Requirement already satisfied: sympy==1.13.1 in /Users/ayeshakhatun/Library/Python/3.9/lib/python/site-packages (from torch>=1.0.0->bert-score) (1.13.1)\n",
      "Requirement already satisfied: mpmath<1.4,>=1.1.0 in /Users/ayeshakhatun/Library/Python/3.9/lib/python/site-packages (from sympy==1.13.1->torch>=1.0.0->bert-score) (1.3.0)\n",
      "Requirement already satisfied: contourpy>=1.0.1 in /Users/ayeshakhatun/Library/Python/3.9/lib/python/site-packages (from matplotlib->bert-score) (1.3.0)\n",
      "Requirement already satisfied: cycler>=0.10 in /Users/ayeshakhatun/Library/Python/3.9/lib/python/site-packages (from matplotlib->bert-score) (0.12.1)\n",
      "Requirement already satisfied: fonttools>=4.22.0 in /Users/ayeshakhatun/Library/Python/3.9/lib/python/site-packages (from matplotlib->bert-score) (4.57.0)\n",
      "Requirement already satisfied: kiwisolver>=1.3.1 in /Users/ayeshakhatun/Library/Python/3.9/lib/python/site-packages (from matplotlib->bert-score) (1.4.7)\n",
      "Requirement already satisfied: pillow>=8 in /Users/ayeshakhatun/Library/Python/3.9/lib/python/site-packages (from matplotlib->bert-score) (11.2.1)\n",
      "Requirement already satisfied: pyparsing>=2.3.1 in /Users/ayeshakhatun/Library/Python/3.9/lib/python/site-packages (from matplotlib->bert-score) (3.2.3)\n",
      "Requirement already satisfied: importlib-resources>=3.2.0 in /Users/ayeshakhatun/Library/Python/3.9/lib/python/site-packages (from matplotlib->bert-score) (6.5.2)\n",
      "Requirement already satisfied: charset-normalizer<4,>=2 in /Users/ayeshakhatun/Library/Python/3.9/lib/python/site-packages (from requests->transformers) (3.4.1)\n",
      "Requirement already satisfied: idna<4,>=2.5 in /Users/ayeshakhatun/Library/Python/3.9/lib/python/site-packages (from requests->transformers) (3.10)\n",
      "Requirement already satisfied: urllib3<3,>=1.21.1 in /Users/ayeshakhatun/Library/Python/3.9/lib/python/site-packages (from requests->transformers) (1.26.20)\n",
      "Requirement already satisfied: certifi>=2017.4.17 in /Users/ayeshakhatun/Library/Python/3.9/lib/python/site-packages (from requests->transformers) (2024.12.14)\n",
      "Requirement already satisfied: sphinx>=1.2.0 in /Users/ayeshakhatun/Library/Python/3.9/lib/python/site-packages (from sphinx-argparse->indic-nlp-library) (7.4.7)\n",
      "Requirement already satisfied: docutils<0.22,>0.18 in /Users/ayeshakhatun/Library/Python/3.9/lib/python/site-packages (from sphinx-rtd-theme->indic-nlp-library) (0.21.2)\n",
      "Requirement already satisfied: sphinxcontrib-jquery<5,>=4 in /Users/ayeshakhatun/Library/Python/3.9/lib/python/site-packages (from sphinx-rtd-theme->indic-nlp-library) (4.1)\n",
      "Requirement already satisfied: zipp>=3.1.0 in /Users/ayeshakhatun/Library/Python/3.9/lib/python/site-packages (from importlib-resources>=3.2.0->matplotlib->bert-score) (3.21.0)\n",
      "Requirement already satisfied: sphinxcontrib-applehelp in /Users/ayeshakhatun/Library/Python/3.9/lib/python/site-packages (from sphinx>=1.2.0->sphinx-argparse->indic-nlp-library) (2.0.0)\n",
      "Requirement already satisfied: sphinxcontrib-devhelp in /Users/ayeshakhatun/Library/Python/3.9/lib/python/site-packages (from sphinx>=1.2.0->sphinx-argparse->indic-nlp-library) (2.0.0)\n",
      "Requirement already satisfied: sphinxcontrib-jsmath in /Users/ayeshakhatun/Library/Python/3.9/lib/python/site-packages (from sphinx>=1.2.0->sphinx-argparse->indic-nlp-library) (1.0.1)\n",
      "Requirement already satisfied: sphinxcontrib-htmlhelp>=2.0.0 in /Users/ayeshakhatun/Library/Python/3.9/lib/python/site-packages (from sphinx>=1.2.0->sphinx-argparse->indic-nlp-library) (2.1.0)\n",
      "Requirement already satisfied: sphinxcontrib-serializinghtml>=1.1.9 in /Users/ayeshakhatun/Library/Python/3.9/lib/python/site-packages (from sphinx>=1.2.0->sphinx-argparse->indic-nlp-library) (2.0.0)\n",
      "Requirement already satisfied: sphinxcontrib-qthelp in /Users/ayeshakhatun/Library/Python/3.9/lib/python/site-packages (from sphinx>=1.2.0->sphinx-argparse->indic-nlp-library) (2.0.0)\n",
      "Requirement already satisfied: Pygments>=2.17 in /Users/ayeshakhatun/Library/Python/3.9/lib/python/site-packages (from sphinx>=1.2.0->sphinx-argparse->indic-nlp-library) (2.19.1)\n",
      "Requirement already satisfied: snowballstemmer>=2.2 in /Users/ayeshakhatun/Library/Python/3.9/lib/python/site-packages (from sphinx>=1.2.0->sphinx-argparse->indic-nlp-library) (2.2.0)\n",
      "Requirement already satisfied: babel>=2.13 in /Users/ayeshakhatun/Library/Python/3.9/lib/python/site-packages (from sphinx>=1.2.0->sphinx-argparse->indic-nlp-library) (2.16.0)\n",
      "Requirement already satisfied: alabaster~=0.7.14 in /Users/ayeshakhatun/Library/Python/3.9/lib/python/site-packages (from sphinx>=1.2.0->sphinx-argparse->indic-nlp-library) (0.7.16)\n",
      "Requirement already satisfied: imagesize>=1.3 in /Users/ayeshakhatun/Library/Python/3.9/lib/python/site-packages (from sphinx>=1.2.0->sphinx-argparse->indic-nlp-library) (1.4.1)\n",
      "Requirement already satisfied: importlib-metadata>=6.0 in /Users/ayeshakhatun/Library/Python/3.9/lib/python/site-packages (from sphinx>=1.2.0->sphinx-argparse->indic-nlp-library) (8.6.1)\n",
      "Requirement already satisfied: tomli>=2 in /Users/ayeshakhatun/Library/Python/3.9/lib/python/site-packages (from sphinx>=1.2.0->sphinx-argparse->indic-nlp-library) (2.2.1)\n",
      "Requirement already satisfied: MarkupSafe>=2.0 in /Users/ayeshakhatun/Library/Python/3.9/lib/python/site-packages (from jinja2->torch>=1.0.0->bert-score) (3.0.2)\n",
      "\n",
      "\u001b[1m[\u001b[0m\u001b[34;49mnotice\u001b[0m\u001b[1;39;49m]\u001b[0m\u001b[39;49m A new release of pip is available: \u001b[0m\u001b[31;49m25.0.1\u001b[0m\u001b[39;49m -> \u001b[0m\u001b[32;49m25.1\u001b[0m\n",
      "\u001b[1m[\u001b[0m\u001b[34;49mnotice\u001b[0m\u001b[1;39;49m]\u001b[0m\u001b[39;49m To update, run: \u001b[0m\u001b[32;49m/Library/Developer/CommandLineTools/usr/bin/python3 -m pip install --upgrade pip\u001b[0m\n"
     ]
    }
   ],
   "source": [
    "!pip install transformers bert-score rouge-score indic-nlp-library nltk"
   ]
  },
  {
   "cell_type": "code",
   "execution_count": 2,
   "id": "f21c8656",
   "metadata": {},
   "outputs": [
    {
     "name": "stderr",
     "output_type": "stream",
     "text": [
      "/Users/ayeshakhatun/Library/Python/3.9/lib/python/site-packages/tqdm/auto.py:21: TqdmWarning: IProgress not found. Please update jupyter and ipywidgets. See https://ipywidgets.readthedocs.io/en/stable/user_install.html\n",
      "  from .autonotebook import tqdm as notebook_tqdm\n",
      "[nltk_data] Downloading package punkt to\n",
      "[nltk_data]     /Users/ayeshakhatun/nltk_data...\n",
      "[nltk_data]   Package punkt is already up-to-date!\n"
     ]
    },
    {
     "data": {
      "text/plain": [
       "True"
      ]
     },
     "execution_count": 2,
     "metadata": {},
     "output_type": "execute_result"
    }
   ],
   "source": [
    "# All Imports are here\n",
    "from transformers import MBartTokenizer, MBartForConditionalGeneration, BartTokenizer, BartForConditionalGeneration\n",
    "from indicnlp.tokenize.sentence_tokenize import sentence_split\n",
    "from bert_score import score as bertscore_score\n",
    "from rouge_score import rouge_scorer\n",
    "from nltk.translate.bleu_score import sentence_bleu\n",
    "from nltk.tokenize import word_tokenize\n",
    "from torch.nn.functional import cosine_similarity\n",
    "import torch\n",
    "import nltk\n",
    "nltk.download('punkt')"
   ]
  },
  {
   "cell_type": "markdown",
   "id": "1dcef468",
   "metadata": {},
   "source": [
    "## Dataset\n",
    "Dataset download from Hugging Face, this dataset contains Bangla sentence pairs labelled as paraphrases or non-paraphrases, which is essential for detecting semantic plagiarism. It contains 8,787 human-annotated sentence pairs collected from a total of 23 newspaper outlets headlines on four categories. In this project I have used only there test data. link: https://huggingface.co/datasets/bracealround/BnPC-A-Gold-Standard-Bangla-Paraphrase-Corpus"
   ]
  },
  {
   "cell_type": "code",
   "execution_count": 3,
   "id": "01a4d4d2",
   "metadata": {},
   "outputs": [
    {
     "name": "stdout",
     "output_type": "stream",
     "text": [
      "Loaded 1383 sentence pairs\n"
     ]
    }
   ],
   "source": [
    "from dataset import dataset\n",
    "print(f\"Loaded {len(dataset)} sentence pairs\")"
   ]
  },
  {
   "cell_type": "code",
   "execution_count": 4,
   "id": "35cbbe45",
   "metadata": {},
   "outputs": [],
   "source": [
    "# preprocessing the text\n",
    "def preprocess_text(text):\n",
    "    return sentence_split(text, lang='bn')"
   ]
  },
  {
   "cell_type": "markdown",
   "id": "27b6083c",
   "metadata": {},
   "source": [
    "## Analysis 01: Generate Paraphrase using mBART\n",
    "This code loads a pre-trained model (mBART) and its tokenizer, which can generate paraphrases of input text. It sets the language to Bangla and defines a function that takes a sentence, prepares it for the model, and then generates a paraphrase using LLMs. The function returns the paraphrased sentence. The model uses beam search and returns the best paraphrase based on the input text."
   ]
  },
  {
   "cell_type": "code",
   "execution_count": null,
   "id": "38d6ba0d",
   "metadata": {},
   "outputs": [
    {
     "name": "stderr",
     "output_type": "stream",
     "text": [
      "/Users/ayeshakhatun/Library/Python/3.9/lib/python/site-packages/huggingface_hub/file_download.py:896: FutureWarning: `resume_download` is deprecated and will be removed in version 1.0.0. Downloads always resume when possible. If you want to force a new download, use `force_download=True`.\n",
      "  warnings.warn(\n"
     ]
    }
   ],
   "source": [
    "from transformers import MBartForConditionalGeneration, MBart50Tokenizer\n",
    "\n",
    "# Load model and tokenizer correctly\n",
    "model_name = 'facebook/mbart-large-50-many-to-many-mmt'\n",
    "tokenizer = MBart50Tokenizer.from_pretrained(model_name)\n",
    "model = MBartForConditionalGeneration.from_pretrained(model_name)\n",
    "\n",
    "# Set language codes properly\n",
    "tokenizer.src_lang = \"bn_IN\"\n",
    "forced_bos_token_id = tokenizer.lang_code_to_id[\"bn_IN\"]\n",
    "\n",
    "# Paraphrasing Function\n",
    "def generate_paraphrase(text):\n",
    "    input_text = f\"paraphrase: {text}\"\n",
    "    inputs = tokenizer(input_text, return_tensors=\"pt\", max_length=512, truncation=True)\n",
    "    outputs = model.generate(**inputs, max_length=512, num_beams=5, num_return_sequences=1,\n",
    "                             early_stopping=True, forced_bos_token_id=forced_bos_token_id)\n",
    "    return tokenizer.decode(outputs[0], skip_special_tokens=True)"
   ]
  },
  {
   "cell_type": "markdown",
   "id": "f54e821a",
   "metadata": {},
   "source": [
    "## Compute Similarity & Metrics\n",
    "This code uses the BART model to calculate the similarity between two sentences by converting them into embeddings. It then computes the cosine similarity between these embeddings to determine how similar the sentences are."
   ]
  },
  {
   "cell_type": "code",
   "execution_count": 6,
   "id": "ebfeb187",
   "metadata": {},
   "outputs": [
    {
     "name": "stderr",
     "output_type": "stream",
     "text": [
      "Some weights of BartForConditionalGeneration were not initialized from the model checkpoint at facebook/bart-large-cnn and are newly initialized: ['model.shared.weight']\n",
      "You should probably TRAIN this model on a down-stream task to be able to use it for predictions and inference.\n"
     ]
    }
   ],
   "source": [
    "bart_tokenizer = BartTokenizer.from_pretrained('facebook/bart-large-cnn')\n",
    "bart_model = BartForConditionalGeneration.from_pretrained('facebook/bart-large-cnn')\n",
    "\n",
    "def calculate_bart_score(t1, t2):\n",
    "    i1 = bart_tokenizer(t1, return_tensors='pt', max_length=1024, truncation=True, padding='max_length')\n",
    "    i2 = bart_tokenizer(t2, return_tensors='pt', max_length=1024, truncation=True, padding='max_length')\n",
    "    with torch.no_grad():\n",
    "        e1 = bart_model.model.encoder(**i1).last_hidden_state.mean(1)\n",
    "        e2 = bart_model.model.encoder(**i2).last_hidden_state.mean(1)\n",
    "    return cosine_similarity(e1, e2).item()"
   ]
  },
  {
   "cell_type": "markdown",
   "id": "32552a85",
   "metadata": {},
   "source": [
    "## Evaluate the System for mBART\n",
    "This code evaluates the similarity between sentence pairs by generating paraphrases and calculating various similarity scores (BERT, ROUGE, BLEU, and BART). It computes accuracy, precision, recall, and F1 score, though I have used only F1 score and BERT score for comparison. "
   ]
  },
  {
   "cell_type": "code",
   "execution_count": 7,
   "id": "b479fbf6",
   "metadata": {},
   "outputs": [],
   "source": [
    "def evaluate(dataset, threshold=0.65):\n",
    "    from random import sample\n",
    "    tp = fp = fn = tn = correct = 0\n",
    "    berts, rouges, bleus, barts = [], [], [], []\n",
    "    sample_data = sample(dataset, 10)\n",
    "    for s1, s2, label in sample_data:\n",
    "        p1 = preprocess_text(s1)[0]\n",
    "        p2 = preprocess_text(s2)[0]\n",
    "        para = generate_paraphrase(p1)\n",
    "        sim_score = calculate_bart_score(para, p2)\n",
    "        pred = int(sim_score > threshold)\n",
    "        if pred == label: correct += 1\n",
    "        if pred == 1 and label == 1: tp += 1\n",
    "        if pred == 1 and label == 0: fp += 1\n",
    "        if pred == 0 and label == 1: fn += 1\n",
    "        if pred == 0 and label == 0: tn += 1\n",
    "        berts.append(bertscore_score([para], [p2], lang='en')[2].mean().item())\n",
    "        rouge = rouge_scorer.RougeScorer(['rougeL'], use_stemmer=True)\n",
    "        rouges.append(rouge.score(para, p2)['rougeL'].fmeasure)\n",
    "        bleus.append(sentence_bleu([word_tokenize(p2)], word_tokenize(para)))\n",
    "        barts.append(sim_score)\n",
    "        print(f\"\\nOriginal: {s1}\\nTarget: {s2}\\nParaphrased: {para}\\nSimilarity: {sim_score:.2f} | Label: {label} | Predicted: {pred}\")\n",
    "    acc = correct / len(sample_data)\n",
    "    precision = tp / (tp + fp + 1e-6)\n",
    "    recall = tp / (tp + fn + 1e-6)\n",
    "    f1 = 2 * precision * recall / (precision + recall + 1e-6)\n",
    "    print(f\"\\n✅ Accuracy: {acc:.2f}, Precision: {precision:.2f}, Recall: {recall:.2f}, F1: {f1:.2f}\")\n",
    "    print(f\"📊 Avg BERT: {sum(berts)/len(berts):.2f}, ROUGE: {sum(rouges)/len(rouges):.2f}, BLEU: {sum(bleus)/len(bleus):.2f}, BART: {sum(barts)/len(barts):.2f}\")"
   ]
  },
  {
   "cell_type": "markdown",
   "id": "9994b821",
   "metadata": {},
   "source": [
    "## Thresholds\n",
    "I have evaluated the model using different thresholds from 0.55 to 0.85."
   ]
  },
  {
   "cell_type": "code",
   "execution_count": 8,
   "id": "577706e3",
   "metadata": {},
   "outputs": [
    {
     "name": "stderr",
     "output_type": "stream",
     "text": [
      "Some weights of the model checkpoint at roberta-large were not used when initializing RobertaModel: ['lm_head.layer_norm.weight', 'lm_head.dense.bias', 'lm_head.dense.weight', 'lm_head.bias', 'lm_head.layer_norm.bias']\n",
      "- This IS expected if you are initializing RobertaModel from the checkpoint of a model trained on another task or with another architecture (e.g. initializing a BertForSequenceClassification model from a BertForPreTraining model).\n",
      "- This IS NOT expected if you are initializing RobertaModel from the checkpoint of a model that you expect to be exactly identical (initializing a BertForSequenceClassification model from a BertForSequenceClassification model).\n",
      "Some weights of RobertaModel were not initialized from the model checkpoint at roberta-large and are newly initialized: ['roberta.pooler.dense.weight', 'roberta.pooler.dense.bias']\n",
      "You should probably TRAIN this model on a down-stream task to be able to use it for predictions and inference.\n"
     ]
    },
    {
     "name": "stdout",
     "output_type": "stream",
     "text": [
      "\n",
      "Original: মিয়ানমারের জন্য রাখা ৩৫০ কোটি টাকা আটকে দিলো যুক্তরাষ্ট্র\n",
      "Target: মিয়ানমারের সহায়তা সরিয়ে পুনর্বণ্টন করবে ইউএসএআইডি\n",
      "Paraphrased: ব ্ যাপারটা হল, 300 million dollars spent on the University of New York blocked access to the city,\n",
      "Similarity: 0.93 | Label: 0 | Predicted: 1\n"
     ]
    },
    {
     "name": "stderr",
     "output_type": "stream",
     "text": [
      "Some weights of the model checkpoint at roberta-large were not used when initializing RobertaModel: ['lm_head.layer_norm.weight', 'lm_head.dense.bias', 'lm_head.dense.weight', 'lm_head.bias', 'lm_head.layer_norm.bias']\n",
      "- This IS expected if you are initializing RobertaModel from the checkpoint of a model trained on another task or with another architecture (e.g. initializing a BertForSequenceClassification model from a BertForPreTraining model).\n",
      "- This IS NOT expected if you are initializing RobertaModel from the checkpoint of a model that you expect to be exactly identical (initializing a BertForSequenceClassification model from a BertForSequenceClassification model).\n",
      "Some weights of RobertaModel were not initialized from the model checkpoint at roberta-large and are newly initialized: ['roberta.pooler.dense.weight', 'roberta.pooler.dense.bias']\n",
      "You should probably TRAIN this model on a down-stream task to be able to use it for predictions and inference.\n"
     ]
    },
    {
     "name": "stdout",
     "output_type": "stream",
     "text": [
      "\n",
      "Original: মান্নাকে ভীষণ মিস করেন শাকিব\n",
      "Target: স্ত্রী শেলীর ভাষ্যে মান্নার মৃত্যুদিন\n",
      "Paraphrased: paraphrase: মা would very much like peace.\n",
      "Similarity: 0.86 | Label: 0 | Predicted: 1\n"
     ]
    },
    {
     "name": "stderr",
     "output_type": "stream",
     "text": [
      "Some weights of the model checkpoint at roberta-large were not used when initializing RobertaModel: ['lm_head.layer_norm.weight', 'lm_head.dense.bias', 'lm_head.dense.weight', 'lm_head.bias', 'lm_head.layer_norm.bias']\n",
      "- This IS expected if you are initializing RobertaModel from the checkpoint of a model trained on another task or with another architecture (e.g. initializing a BertForSequenceClassification model from a BertForPreTraining model).\n",
      "- This IS NOT expected if you are initializing RobertaModel from the checkpoint of a model that you expect to be exactly identical (initializing a BertForSequenceClassification model from a BertForSequenceClassification model).\n",
      "Some weights of RobertaModel were not initialized from the model checkpoint at roberta-large and are newly initialized: ['roberta.pooler.dense.weight', 'roberta.pooler.dense.bias']\n",
      "You should probably TRAIN this model on a down-stream task to be able to use it for predictions and inference.\n",
      "/Users/ayeshakhatun/Library/Python/3.9/lib/python/site-packages/nltk/translate/bleu_score.py:552: UserWarning: \n",
      "The hypothesis contains 0 counts of 2-gram overlaps.\n",
      "Therefore the BLEU score evaluates to 0, independently of\n",
      "how many N-gram overlaps of lower order it contains.\n",
      "Consider using lower n-gram order or use SmoothingFunction()\n",
      "  warnings.warn(_msg)\n",
      "/Users/ayeshakhatun/Library/Python/3.9/lib/python/site-packages/nltk/translate/bleu_score.py:552: UserWarning: \n",
      "The hypothesis contains 0 counts of 3-gram overlaps.\n",
      "Therefore the BLEU score evaluates to 0, independently of\n",
      "how many N-gram overlaps of lower order it contains.\n",
      "Consider using lower n-gram order or use SmoothingFunction()\n",
      "  warnings.warn(_msg)\n",
      "/Users/ayeshakhatun/Library/Python/3.9/lib/python/site-packages/nltk/translate/bleu_score.py:552: UserWarning: \n",
      "The hypothesis contains 0 counts of 4-gram overlaps.\n",
      "Therefore the BLEU score evaluates to 0, independently of\n",
      "how many N-gram overlaps of lower order it contains.\n",
      "Consider using lower n-gram order or use SmoothingFunction()\n",
      "  warnings.warn(_msg)\n"
     ]
    },
    {
     "name": "stdout",
     "output_type": "stream",
     "text": [
      "\n",
      "Original: এই পিচে ৩৫০-ই যথেষ্ট, বলছেন প্রথম দিনের নায়ক\n",
      "Target: খাতা খুলতে পারেননি বিরাট, রানে ফেরেন রাহানে\n",
      "Paraphrased: paraphrase: The third day, 250th anniversary, is the hero of the day.\n",
      "Similarity: 0.84 | Label: 0 | Predicted: 1\n"
     ]
    },
    {
     "name": "stderr",
     "output_type": "stream",
     "text": [
      "Some weights of the model checkpoint at roberta-large were not used when initializing RobertaModel: ['lm_head.layer_norm.weight', 'lm_head.dense.bias', 'lm_head.dense.weight', 'lm_head.bias', 'lm_head.layer_norm.bias']\n",
      "- This IS expected if you are initializing RobertaModel from the checkpoint of a model trained on another task or with another architecture (e.g. initializing a BertForSequenceClassification model from a BertForPreTraining model).\n",
      "- This IS NOT expected if you are initializing RobertaModel from the checkpoint of a model that you expect to be exactly identical (initializing a BertForSequenceClassification model from a BertForSequenceClassification model).\n",
      "Some weights of RobertaModel were not initialized from the model checkpoint at roberta-large and are newly initialized: ['roberta.pooler.dense.weight', 'roberta.pooler.dense.bias']\n",
      "You should probably TRAIN this model on a down-stream task to be able to use it for predictions and inference.\n"
     ]
    },
    {
     "name": "stdout",
     "output_type": "stream",
     "text": [
      "\n",
      "Original: কারাবন্দী লেখক মুশতাকের মৃত্যুতে তদন্ত কমিটি\n",
      "Target: তদন্ত কমিটির প্রতিবেদন অনুযায়ী যা প্রয়োজন করব: স্বরাষ্ট্রমন্ত্রী\n",
      "Paraphrased: ব ্ যাপারটি হল, কারা সেই author?\n",
      "Similarity: 0.90 | Label: 0 | Predicted: 1\n"
     ]
    },
    {
     "name": "stderr",
     "output_type": "stream",
     "text": [
      "Some weights of the model checkpoint at roberta-large were not used when initializing RobertaModel: ['lm_head.layer_norm.weight', 'lm_head.dense.bias', 'lm_head.dense.weight', 'lm_head.bias', 'lm_head.layer_norm.bias']\n",
      "- This IS expected if you are initializing RobertaModel from the checkpoint of a model trained on another task or with another architecture (e.g. initializing a BertForSequenceClassification model from a BertForPreTraining model).\n",
      "- This IS NOT expected if you are initializing RobertaModel from the checkpoint of a model that you expect to be exactly identical (initializing a BertForSequenceClassification model from a BertForSequenceClassification model).\n",
      "Some weights of RobertaModel were not initialized from the model checkpoint at roberta-large and are newly initialized: ['roberta.pooler.dense.weight', 'roberta.pooler.dense.bias']\n",
      "You should probably TRAIN this model on a down-stream task to be able to use it for predictions and inference.\n"
     ]
    },
    {
     "name": "stdout",
     "output_type": "stream",
     "text": [
      "\n",
      "Original: বান্দরবানে ভালুকের আক্রমণে আহত ৩\n",
      "Target: ভাল্লুকের আক্রমণে আহত গ্রামপ্রধান, হেলিকপ্টারে গেলেন হাসপাতালে\n",
      "Paraphrased: ব ্ যাপারটা হল, ভালুকের internal ক ্ ষেত ্ রে তিন ভালুক ছিল ।\n",
      "Similarity: 0.98 | Label: 0 | Predicted: 1\n"
     ]
    },
    {
     "name": "stderr",
     "output_type": "stream",
     "text": [
      "Some weights of the model checkpoint at roberta-large were not used when initializing RobertaModel: ['lm_head.layer_norm.weight', 'lm_head.dense.bias', 'lm_head.dense.weight', 'lm_head.bias', 'lm_head.layer_norm.bias']\n",
      "- This IS expected if you are initializing RobertaModel from the checkpoint of a model trained on another task or with another architecture (e.g. initializing a BertForSequenceClassification model from a BertForPreTraining model).\n",
      "- This IS NOT expected if you are initializing RobertaModel from the checkpoint of a model that you expect to be exactly identical (initializing a BertForSequenceClassification model from a BertForSequenceClassification model).\n",
      "Some weights of RobertaModel were not initialized from the model checkpoint at roberta-large and are newly initialized: ['roberta.pooler.dense.weight', 'roberta.pooler.dense.bias']\n",
      "You should probably TRAIN this model on a down-stream task to be able to use it for predictions and inference.\n"
     ]
    },
    {
     "name": "stdout",
     "output_type": "stream",
     "text": [
      "\n",
      "Original: বিয়ের সানাই বাজল দিয়ার, শুরু মেহেন্দির অনুষ্ঠান\n",
      "Target: সাতপাকে বাঁধা পড়লেন দিয়া মির্জা\n",
      "Paraphrased: বয ় োজন সানাই দিয ় িয ় ে পৌঁছে দিয ় ে, মেয ় ের শুরুতে ।\n",
      "Similarity: 0.97 | Label: 0 | Predicted: 1\n"
     ]
    },
    {
     "name": "stderr",
     "output_type": "stream",
     "text": [
      "Some weights of the model checkpoint at roberta-large were not used when initializing RobertaModel: ['lm_head.layer_norm.weight', 'lm_head.dense.bias', 'lm_head.dense.weight', 'lm_head.bias', 'lm_head.layer_norm.bias']\n",
      "- This IS expected if you are initializing RobertaModel from the checkpoint of a model trained on another task or with another architecture (e.g. initializing a BertForSequenceClassification model from a BertForPreTraining model).\n",
      "- This IS NOT expected if you are initializing RobertaModel from the checkpoint of a model that you expect to be exactly identical (initializing a BertForSequenceClassification model from a BertForSequenceClassification model).\n",
      "Some weights of RobertaModel were not initialized from the model checkpoint at roberta-large and are newly initialized: ['roberta.pooler.dense.weight', 'roberta.pooler.dense.bias']\n",
      "You should probably TRAIN this model on a down-stream task to be able to use it for predictions and inference.\n"
     ]
    },
    {
     "name": "stdout",
     "output_type": "stream",
     "text": [
      "\n",
      "Original: রেকর্ড গড়ে টেস্টে ১০০ উইকেট মিরাজের\n",
      "Target: দ্রুততম ১০০ উইকেটের রেকর্ডে তাইজুলকে ছাড়িয়ে গেলেন মিরাজ\n",
      "Paraphrased: ব ্ যাপারটি হল, on average, 100 countries failed to meet their food security targets ।\n",
      "Similarity: 0.92 | Label: 1 | Predicted: 1\n"
     ]
    },
    {
     "name": "stderr",
     "output_type": "stream",
     "text": [
      "Some weights of the model checkpoint at roberta-large were not used when initializing RobertaModel: ['lm_head.layer_norm.weight', 'lm_head.dense.bias', 'lm_head.dense.weight', 'lm_head.bias', 'lm_head.layer_norm.bias']\n",
      "- This IS expected if you are initializing RobertaModel from the checkpoint of a model trained on another task or with another architecture (e.g. initializing a BertForSequenceClassification model from a BertForPreTraining model).\n",
      "- This IS NOT expected if you are initializing RobertaModel from the checkpoint of a model that you expect to be exactly identical (initializing a BertForSequenceClassification model from a BertForSequenceClassification model).\n",
      "Some weights of RobertaModel were not initialized from the model checkpoint at roberta-large and are newly initialized: ['roberta.pooler.dense.weight', 'roberta.pooler.dense.bias']\n",
      "You should probably TRAIN this model on a down-stream task to be able to use it for predictions and inference.\n"
     ]
    },
    {
     "name": "stdout",
     "output_type": "stream",
     "text": [
      "\n",
      "Original: তাজিকিস্তানে শক্তিশালী ভূমিকম্প, কাঁপলো ভারত\n",
      "Target: ৬ দশমিক ৩ মাত্রার শক্তিশালী ভূমিকম্পে কেঁপে উঠেছে তাজিকিস্তান।\n",
      "Paraphrased: paraphrase: In Tajikistan, huge land, swallowed by India\n",
      "Similarity: 0.79 | Label: 1 | Predicted: 1\n"
     ]
    },
    {
     "name": "stderr",
     "output_type": "stream",
     "text": [
      "Some weights of the model checkpoint at roberta-large were not used when initializing RobertaModel: ['lm_head.layer_norm.weight', 'lm_head.dense.bias', 'lm_head.dense.weight', 'lm_head.bias', 'lm_head.layer_norm.bias']\n",
      "- This IS expected if you are initializing RobertaModel from the checkpoint of a model trained on another task or with another architecture (e.g. initializing a BertForSequenceClassification model from a BertForPreTraining model).\n",
      "- This IS NOT expected if you are initializing RobertaModel from the checkpoint of a model that you expect to be exactly identical (initializing a BertForSequenceClassification model from a BertForSequenceClassification model).\n",
      "Some weights of RobertaModel were not initialized from the model checkpoint at roberta-large and are newly initialized: ['roberta.pooler.dense.weight', 'roberta.pooler.dense.bias']\n",
      "You should probably TRAIN this model on a down-stream task to be able to use it for predictions and inference.\n"
     ]
    },
    {
     "name": "stdout",
     "output_type": "stream",
     "text": [
      "\n",
      "Original: ২৩ হাজারের বেশি বন্দিকে মুক্তি মিয়ানমার সেনাবাহিনীর\n",
      "Target: ২৩ হাজার বন্দিকে মুক্তি দিচ্ছে মিয়ানমারের সেনা সরকার\n",
      "Paraphrased: paraphrase: 23 thousand people have died from the army in August ।\n",
      "Similarity: 0.88 | Label: 1 | Predicted: 1\n"
     ]
    },
    {
     "name": "stderr",
     "output_type": "stream",
     "text": [
      "Some weights of the model checkpoint at roberta-large were not used when initializing RobertaModel: ['lm_head.layer_norm.weight', 'lm_head.dense.bias', 'lm_head.dense.weight', 'lm_head.bias', 'lm_head.layer_norm.bias']\n",
      "- This IS expected if you are initializing RobertaModel from the checkpoint of a model trained on another task or with another architecture (e.g. initializing a BertForSequenceClassification model from a BertForPreTraining model).\n",
      "- This IS NOT expected if you are initializing RobertaModel from the checkpoint of a model that you expect to be exactly identical (initializing a BertForSequenceClassification model from a BertForSequenceClassification model).\n",
      "Some weights of RobertaModel were not initialized from the model checkpoint at roberta-large and are newly initialized: ['roberta.pooler.dense.weight', 'roberta.pooler.dense.bias']\n",
      "You should probably TRAIN this model on a down-stream task to be able to use it for predictions and inference.\n"
     ]
    },
    {
     "name": "stdout",
     "output_type": "stream",
     "text": [
      "\n",
      "Original: চালের পথে হাঁটছে মুরগি\n",
      "Target: দ্রব্যমূল্যে লাগাম নেই, হিমশিম খাচ্ছেন সাধারণ ক্রেতারা\n",
      "Paraphrased: ব ্ যাপারটা হল ওই মুরগিটির চাল পথে ।\n",
      "Similarity: 0.98 | Label: 0 | Predicted: 1\n",
      "\n",
      "✅ Accuracy: 0.30, Precision: 0.30, Recall: 1.00, F1: 0.46\n",
      "📊 Avg BERT: 0.84, ROUGE: 0.00, BLEU: 0.00, BART: 0.91\n"
     ]
    }
   ],
   "source": [
    "# 🔍 Run Evaluation\n",
    "evaluate(dataset, threshold=0.75)"
   ]
  },
  {
   "cell_type": "markdown",
   "id": "42ec4a3c",
   "metadata": {},
   "source": [
    "## Analysis 02: Generate Paraphrase using BangaT5\n",
    "This code loads a pre-trained Bangla T5 model and tokenizer to generate paraphrases of input sentences. It defines a function that takes a sentence, formats it for the model, and returns a paraphrased version by generating it with beam search."
   ]
  },
  {
   "cell_type": "code",
   "execution_count": 9,
   "id": "ccb69733",
   "metadata": {},
   "outputs": [],
   "source": [
    "from transformers import T5ForConditionalGeneration, T5Tokenizer\n",
    "\n",
    "# Load model and tokenizer correctly\n",
    "model_name = 'csebuetnlp/banglat5'\n",
    "tokenizer = T5Tokenizer.from_pretrained(model_name)\n",
    "model = T5ForConditionalGeneration.from_pretrained(model_name)\n",
    "\n",
    "# Set language codes properly \n",
    "tokenizer.src_lang = \"bn_IN\"  \n",
    "forced_bos_token_id = None    \n",
    "\n",
    "# Define paraphrasing function\n",
    "def generate_paraphrase(text):\n",
    "    input_text = f\"paraphrase: {text}\"\n",
    "    inputs = tokenizer(input_text, return_tensors=\"pt\", max_length=512, truncation=True)\n",
    "    outputs = model.generate(**inputs, max_length=512, num_beams=5, num_return_sequences=1,\n",
    "                             early_stopping=True)\n",
    "    return tokenizer.decode(outputs[0], skip_special_tokens=True)\n"
   ]
  },
  {
   "cell_type": "markdown",
   "id": "6dd7b416",
   "metadata": {},
   "source": [
    "## Compute Similarity & Metrics\n",
    "This code uses the BART model to calculate the similarity between two sentences by converting them into embeddings. It then computes the cosine similarity between these embeddings to determine how similar the sentences are."
   ]
  },
  {
   "cell_type": "code",
   "execution_count": 10,
   "id": "1342c534",
   "metadata": {},
   "outputs": [
    {
     "name": "stderr",
     "output_type": "stream",
     "text": [
      "Some weights of BartForConditionalGeneration were not initialized from the model checkpoint at facebook/bart-large-cnn and are newly initialized: ['model.shared.weight']\n",
      "You should probably TRAIN this model on a down-stream task to be able to use it for predictions and inference.\n"
     ]
    }
   ],
   "source": [
    "bart_tokenizer = BartTokenizer.from_pretrained('facebook/bart-large-cnn')\n",
    "bart_model = BartForConditionalGeneration.from_pretrained('facebook/bart-large-cnn')\n",
    "\n",
    "def calculate_bart_score(t1, t2):\n",
    "    i1 = bart_tokenizer(t1, return_tensors='pt', max_length=1024, truncation=True, padding='max_length')\n",
    "    i2 = bart_tokenizer(t2, return_tensors='pt', max_length=1024, truncation=True, padding='max_length')\n",
    "    with torch.no_grad():\n",
    "        e1 = bart_model.model.encoder(**i1).last_hidden_state.mean(1)\n",
    "        e2 = bart_model.model.encoder(**i2).last_hidden_state.mean(1)\n",
    "    return cosine_similarity(e1, e2).item()"
   ]
  },
  {
   "cell_type": "markdown",
   "id": "b9d483fd",
   "metadata": {},
   "source": [
    "## Evaluate System for Bangla-T5"
   ]
  },
  {
   "cell_type": "code",
   "execution_count": 11,
   "id": "4c8394f6",
   "metadata": {},
   "outputs": [],
   "source": [
    "def evaluate(dataset, threshold=0.65):\n",
    "    from random import sample\n",
    "    tp = fp = fn = tn = correct = 0\n",
    "    berts, rouges, bleus, barts = [], [], [], []\n",
    "    sample_data = sample(dataset, 10)\n",
    "    for s1, s2, label in sample_data:\n",
    "        p1 = preprocess_text(s1)[0]\n",
    "        p2 = preprocess_text(s2)[0]\n",
    "        para = generate_paraphrase(p1)\n",
    "        sim_score = calculate_bart_score(para, p2)\n",
    "        pred = int(sim_score > threshold)\n",
    "        if pred == label: correct += 1\n",
    "        if pred == 1 and label == 1: tp += 1\n",
    "        if pred == 1 and label == 0: fp += 1\n",
    "        if pred == 0 and label == 1: fn += 1\n",
    "        if pred == 0 and label == 0: tn += 1\n",
    "        berts.append(bertscore_score([para], [p2], lang='en')[2].mean().item())\n",
    "        rouge = rouge_scorer.RougeScorer(['rougeL'], use_stemmer=True)\n",
    "        rouges.append(rouge.score(para, p2)['rougeL'].fmeasure)\n",
    "        bleus.append(sentence_bleu([word_tokenize(p2)], word_tokenize(para)))\n",
    "        barts.append(sim_score)\n",
    "        print(f\"\\nOriginal: {s1}\\nTarget: {s2}\\nParaphrased: {para}\\nSimilarity: {sim_score:.2f} | Label: {label} | Predicted: {pred}\")\n",
    "    acc = correct / len(sample_data)\n",
    "    precision = tp / (tp + fp + 1e-6)\n",
    "    recall = tp / (tp + fn + 1e-6)\n",
    "    f1 = 2 * precision * recall / (precision + recall + 1e-6)\n",
    "    print(f\"\\n✅ Accuracy: {acc:.2f}, Precision: {precision:.2f}, Recall: {recall:.2f}, F1: {f1:.2f}\")\n",
    "    print(f\"📊 Avg BERT: {sum(berts)/len(berts):.2f}, ROUGE: {sum(rouges)/len(rouges):.2f}, BLEU: {sum(bleus)/len(bleus):.2f}, BART: {sum(barts)/len(barts):.2f}\")"
   ]
  },
  {
   "cell_type": "markdown",
   "id": "8bff722c",
   "metadata": {},
   "source": [
    "## Thresholds"
   ]
  },
  {
   "cell_type": "code",
   "execution_count": 12,
   "id": "a3fd8de6",
   "metadata": {},
   "outputs": [
    {
     "name": "stderr",
     "output_type": "stream",
     "text": [
      "Some weights of the model checkpoint at roberta-large were not used when initializing RobertaModel: ['lm_head.layer_norm.weight', 'lm_head.dense.bias', 'lm_head.dense.weight', 'lm_head.bias', 'lm_head.layer_norm.bias']\n",
      "- This IS expected if you are initializing RobertaModel from the checkpoint of a model trained on another task or with another architecture (e.g. initializing a BertForSequenceClassification model from a BertForPreTraining model).\n",
      "- This IS NOT expected if you are initializing RobertaModel from the checkpoint of a model that you expect to be exactly identical (initializing a BertForSequenceClassification model from a BertForSequenceClassification model).\n",
      "Some weights of RobertaModel were not initialized from the model checkpoint at roberta-large and are newly initialized: ['roberta.pooler.dense.weight', 'roberta.pooler.dense.bias']\n",
      "You should probably TRAIN this model on a down-stream task to be able to use it for predictions and inference.\n"
     ]
    },
    {
     "name": "stdout",
     "output_type": "stream",
     "text": [
      "\n",
      "Original: এখনও ঘোরের মধ্যে রাজ্জাক\n",
      "Target: ক্রিকেট ছাড়লেও একটি জিনিস কখনো ভুলবেন না রাজ্জাক\n",
      "Paraphrased: ্ত্র্যা র্যা র্যা র্যা র্যা র্যা র্যা র্যা র্যা র্যা রries: রাজ্জাক্যার্যা র্যা র্যা রries:\n",
      "Similarity: 0.95 | Label: 0 | Predicted: 1\n"
     ]
    },
    {
     "name": "stderr",
     "output_type": "stream",
     "text": [
      "Some weights of the model checkpoint at roberta-large were not used when initializing RobertaModel: ['lm_head.layer_norm.weight', 'lm_head.dense.bias', 'lm_head.dense.weight', 'lm_head.bias', 'lm_head.layer_norm.bias']\n",
      "- This IS expected if you are initializing RobertaModel from the checkpoint of a model trained on another task or with another architecture (e.g. initializing a BertForSequenceClassification model from a BertForPreTraining model).\n",
      "- This IS NOT expected if you are initializing RobertaModel from the checkpoint of a model that you expect to be exactly identical (initializing a BertForSequenceClassification model from a BertForSequenceClassification model).\n",
      "Some weights of RobertaModel were not initialized from the model checkpoint at roberta-large and are newly initialized: ['roberta.pooler.dense.weight', 'roberta.pooler.dense.bias']\n",
      "You should probably TRAIN this model on a down-stream task to be able to use it for predictions and inference.\n"
     ]
    },
    {
     "name": "stdout",
     "output_type": "stream",
     "text": [
      "\n",
      "Original: টসে জিতে ব্যাটিং নিলেন বিরাট, খেলছেন কুলদীপ\n",
      "Target: অধিনায়কত্ব বিতর্কে কোহলিকে কান দিতে মানা পিটারসেনের\n",
      "Paraphrased: , কুলদীপন, কুলদীপন, কুলদীপন, কুলদীপন, কুলদীপন, কুলদীপন, কুলদীপন, কুলদীপন, কুলদীপন, কুলদীপন, কুলদীপন, কুলদীপন, কুলদীপন, কোহলি\n",
      "Similarity: 0.89 | Label: 0 | Predicted: 1\n"
     ]
    },
    {
     "name": "stderr",
     "output_type": "stream",
     "text": [
      "Some weights of the model checkpoint at roberta-large were not used when initializing RobertaModel: ['lm_head.layer_norm.weight', 'lm_head.dense.bias', 'lm_head.dense.weight', 'lm_head.bias', 'lm_head.layer_norm.bias']\n",
      "- This IS expected if you are initializing RobertaModel from the checkpoint of a model trained on another task or with another architecture (e.g. initializing a BertForSequenceClassification model from a BertForPreTraining model).\n",
      "- This IS NOT expected if you are initializing RobertaModel from the checkpoint of a model that you expect to be exactly identical (initializing a BertForSequenceClassification model from a BertForSequenceClassification model).\n",
      "Some weights of RobertaModel were not initialized from the model checkpoint at roberta-large and are newly initialized: ['roberta.pooler.dense.weight', 'roberta.pooler.dense.bias']\n",
      "You should probably TRAIN this model on a down-stream task to be able to use it for predictions and inference.\n"
     ]
    },
    {
     "name": "stdout",
     "output_type": "stream",
     "text": [
      "\n",
      "Original: সভাপতি আওয়ামী লীগের সম্পাদক বিএনপির\n",
      "Target: মানিকগঞ্জ আইনজীবী সমিতির নির্বাচনে জাতীয়তাবাদী ফোরামের বিপুল বিজয়\n",
      "Paraphrased: প্রতিদ্বন্দ্বিতা প্রতিদ্বন্দ্বিতা প্রতিদ্বন্দ্বিতা প্রতিদ্বন্দ্বিতা প্রতিদ্বন্দ্বিতা প্রতিদ্বন্দ্বিতা প্রতিদ্বন্দ্বিতা প্রতিদ্বন্দ্বিতা প্রতিদ্বন্দ্বিতা প্রতিদ্বন্দ্বিতা প্রতিদ্বন্দ্বিতা প্রতিদ্বন্দ্বিতা প্রতিদ্বন্দ্বিতা প্রতিদ্বন্দ্বিতা প্রতিদ্বন্দ্বিতা প্রতিদ্বন্দ্বিতা প্রতিদ্বন্দ্বিতা প্রতিদ্বন্দ্বিতাী।র সম্পাদক।র সম্পাদক।র সম্পাদক।র সম্পাদক।র সম্পাদক।র সম্পাদক।র সম্পাদক।র সম্পাদক।র সম্পাদকী। প্রতিদ্বন্দ্বিতার সম্পাদক।র সম্পাদক।র সম্পাদক।র সম্পাদকী। প্রতিদ্বন্দ্বিতার সম্পাদক। প্রতিদ্বন্দ্বিতার সম্পাদক।র সম্পাদকী। news: editing write article প্রতিদ্বন্দ্বিতা প্রতিদ্বন্দ্বিতা প্রতিদ্বন্দ্বিতা\n",
      "Similarity: 0.36 | Label: 0 | Predicted: 0\n"
     ]
    },
    {
     "name": "stderr",
     "output_type": "stream",
     "text": [
      "Some weights of the model checkpoint at roberta-large were not used when initializing RobertaModel: ['lm_head.layer_norm.weight', 'lm_head.dense.bias', 'lm_head.dense.weight', 'lm_head.bias', 'lm_head.layer_norm.bias']\n",
      "- This IS expected if you are initializing RobertaModel from the checkpoint of a model trained on another task or with another architecture (e.g. initializing a BertForSequenceClassification model from a BertForPreTraining model).\n",
      "- This IS NOT expected if you are initializing RobertaModel from the checkpoint of a model that you expect to be exactly identical (initializing a BertForSequenceClassification model from a BertForSequenceClassification model).\n",
      "Some weights of RobertaModel were not initialized from the model checkpoint at roberta-large and are newly initialized: ['roberta.pooler.dense.weight', 'roberta.pooler.dense.bias']\n",
      "You should probably TRAIN this model on a down-stream task to be able to use it for predictions and inference.\n"
     ]
    },
    {
     "name": "stdout",
     "output_type": "stream",
     "text": [
      "\n",
      "Original: এবার প্রিটোরিয়াসের কাছে উড়ে গেলো পাকিস্তান\n",
      "Target: পারলো না পাকিস্তান, সিরিজের সমতা আনল দ. আফ্রিকা\n",
      "Paraphrased: ।।।।।। প্যারা।।।।।। প্যারা।।।।।।।। প্যারা।।।।।।।।।।।।।।।।।।।।।।।।।।।।।।।।।।।।।।।।।।।।।।।।।।।।।।।।।।।।।।।।।।।।।।।।।।।।।।।।।।।।।।।।\n",
      "Similarity: 0.80 | Label: 0 | Predicted: 1\n"
     ]
    },
    {
     "name": "stderr",
     "output_type": "stream",
     "text": [
      "Some weights of the model checkpoint at roberta-large were not used when initializing RobertaModel: ['lm_head.layer_norm.weight', 'lm_head.dense.bias', 'lm_head.dense.weight', 'lm_head.bias', 'lm_head.layer_norm.bias']\n",
      "- This IS expected if you are initializing RobertaModel from the checkpoint of a model trained on another task or with another architecture (e.g. initializing a BertForSequenceClassification model from a BertForPreTraining model).\n",
      "- This IS NOT expected if you are initializing RobertaModel from the checkpoint of a model that you expect to be exactly identical (initializing a BertForSequenceClassification model from a BertForSequenceClassification model).\n",
      "Some weights of RobertaModel were not initialized from the model checkpoint at roberta-large and are newly initialized: ['roberta.pooler.dense.weight', 'roberta.pooler.dense.bias']\n",
      "You should probably TRAIN this model on a down-stream task to be able to use it for predictions and inference.\n"
     ]
    },
    {
     "name": "stdout",
     "output_type": "stream",
     "text": [
      "\n",
      "Original: চীনে বিবিসি ওয়ার্ল্ড নিউজ বন্ধ\n",
      "Target: বিবিসি ওয়ার্ল্ড নিউজের সম্প্রচার চীন নিষিদ্ধ ঘোষণা করেছে\n",
      "Paraphrased: : China para: para: para: para: para: para: para: para: para: para: para: চিনে করে বন্ধ করে সংবাদ China para:কর বন্ধ করে বন্ধ করে বন্ধ: করে বন্ধ করে বন্ধ করে বন্ধ করে বন্ধ করে বন্ধ করে বন্ধ করে বন্ধ করে বন্ধ করে বন্ধ করে বন্ধ করে বন্ধ করে বন্ধ করে বন্ধ করে বন্ধ করে বন্ধ করে বন্ধ করে বন্ধ করে বন্ধ করে বন্ধ করে বন্ধ করে বন্ধ করে বন্ধ China para: para: para: para: para: para: para: para: para: para::\n",
      "Similarity: 0.59 | Label: 1 | Predicted: 0\n"
     ]
    },
    {
     "name": "stderr",
     "output_type": "stream",
     "text": [
      "Some weights of the model checkpoint at roberta-large were not used when initializing RobertaModel: ['lm_head.layer_norm.weight', 'lm_head.dense.bias', 'lm_head.dense.weight', 'lm_head.bias', 'lm_head.layer_norm.bias']\n",
      "- This IS expected if you are initializing RobertaModel from the checkpoint of a model trained on another task or with another architecture (e.g. initializing a BertForSequenceClassification model from a BertForPreTraining model).\n",
      "- This IS NOT expected if you are initializing RobertaModel from the checkpoint of a model that you expect to be exactly identical (initializing a BertForSequenceClassification model from a BertForSequenceClassification model).\n",
      "Some weights of RobertaModel were not initialized from the model checkpoint at roberta-large and are newly initialized: ['roberta.pooler.dense.weight', 'roberta.pooler.dense.bias']\n",
      "You should probably TRAIN this model on a down-stream task to be able to use it for predictions and inference.\n"
     ]
    },
    {
     "name": "stdout",
     "output_type": "stream",
     "text": [
      "\n",
      "Original: চাঁদে যাওয়ার ঘোষণা দিলেন এরদোয়ান\n",
      "Target: প্রেসিডেন্ট রিচেপ তাইয়েপ এরদোয়ান চাঁদে যাওয়ার ঘোষণা দিলেন\n",
      "Paraphrased: parano:::::::::::a:a:a:a:a:a:a:a:a:a:a:a:a:::\n",
      "Similarity: 0.85 | Label: 1 | Predicted: 1\n"
     ]
    },
    {
     "name": "stderr",
     "output_type": "stream",
     "text": [
      "Some weights of the model checkpoint at roberta-large were not used when initializing RobertaModel: ['lm_head.layer_norm.weight', 'lm_head.dense.bias', 'lm_head.dense.weight', 'lm_head.bias', 'lm_head.layer_norm.bias']\n",
      "- This IS expected if you are initializing RobertaModel from the checkpoint of a model trained on another task or with another architecture (e.g. initializing a BertForSequenceClassification model from a BertForPreTraining model).\n",
      "- This IS NOT expected if you are initializing RobertaModel from the checkpoint of a model that you expect to be exactly identical (initializing a BertForSequenceClassification model from a BertForSequenceClassification model).\n",
      "Some weights of RobertaModel were not initialized from the model checkpoint at roberta-large and are newly initialized: ['roberta.pooler.dense.weight', 'roberta.pooler.dense.bias']\n",
      "You should probably TRAIN this model on a down-stream task to be able to use it for predictions and inference.\n"
     ]
    },
    {
     "name": "stdout",
     "output_type": "stream",
     "text": [
      "\n",
      "Original: ফের বিয়ে করলেন অভিনেত্রী দিয়া মির্জা\n",
      "Target: বিয়ে করলেন দিয়া মির্জা\n",
      "Paraphrased: ::::::::::::::::::::::\n",
      "Similarity: 0.85 | Label: 1 | Predicted: 1\n"
     ]
    },
    {
     "name": "stderr",
     "output_type": "stream",
     "text": [
      "Some weights of the model checkpoint at roberta-large were not used when initializing RobertaModel: ['lm_head.layer_norm.weight', 'lm_head.dense.bias', 'lm_head.dense.weight', 'lm_head.bias', 'lm_head.layer_norm.bias']\n",
      "- This IS expected if you are initializing RobertaModel from the checkpoint of a model trained on another task or with another architecture (e.g. initializing a BertForSequenceClassification model from a BertForPreTraining model).\n",
      "- This IS NOT expected if you are initializing RobertaModel from the checkpoint of a model that you expect to be exactly identical (initializing a BertForSequenceClassification model from a BertForSequenceClassification model).\n",
      "Some weights of RobertaModel were not initialized from the model checkpoint at roberta-large and are newly initialized: ['roberta.pooler.dense.weight', 'roberta.pooler.dense.bias']\n",
      "You should probably TRAIN this model on a down-stream task to be able to use it for predictions and inference.\n"
     ]
    },
    {
     "name": "stdout",
     "output_type": "stream",
     "text": [
      "\n",
      "Original: সিলেটে মুরগির বাজার দাম চড়া, ক্রেতারা বিপাকে\n",
      "Target: বেড়েই চলেছে ব্রয়লার মুরগির দাম, সবজিতে স্বস্তি\n",
      "Paraphrased: ে নাস্তিতে,ভিক্ষুক'িতে' পারে নায়ন্তি, ভোক্তা নাভি\n",
      "Similarity: 1.00 | Label: 1 | Predicted: 1\n"
     ]
    },
    {
     "name": "stderr",
     "output_type": "stream",
     "text": [
      "Some weights of the model checkpoint at roberta-large were not used when initializing RobertaModel: ['lm_head.layer_norm.weight', 'lm_head.dense.bias', 'lm_head.dense.weight', 'lm_head.bias', 'lm_head.layer_norm.bias']\n",
      "- This IS expected if you are initializing RobertaModel from the checkpoint of a model trained on another task or with another architecture (e.g. initializing a BertForSequenceClassification model from a BertForPreTraining model).\n",
      "- This IS NOT expected if you are initializing RobertaModel from the checkpoint of a model that you expect to be exactly identical (initializing a BertForSequenceClassification model from a BertForSequenceClassification model).\n",
      "Some weights of RobertaModel were not initialized from the model checkpoint at roberta-large and are newly initialized: ['roberta.pooler.dense.weight', 'roberta.pooler.dense.bias']\n",
      "You should probably TRAIN this model on a down-stream task to be able to use it for predictions and inference.\n"
     ]
    },
    {
     "name": "stdout",
     "output_type": "stream",
     "text": [
      "\n",
      "Original: বিবিসি-র সম্প্রচার বন্ধ করল চিন\n",
      "Target: বিবিসির সম্প্রচার নিষিদ্ধ করল চীন, যুক্তরাষ্ট্রের নিন্দা\n",
      "Paraphrased: চিন চিন চিন চিন চিন চিন চিন চিন চিন চিন চিন চিন চিন চিন চিন চিন চিন চিন চিন চিন চিন চিন চিন চিন চিন চিন চিন চিন চিন চিন চিন চিন চিন চিন চিন চিনু। চিন চিন\n",
      "Similarity: 0.84 | Label: 1 | Predicted: 1\n"
     ]
    },
    {
     "name": "stderr",
     "output_type": "stream",
     "text": [
      "Some weights of the model checkpoint at roberta-large were not used when initializing RobertaModel: ['lm_head.layer_norm.weight', 'lm_head.dense.bias', 'lm_head.dense.weight', 'lm_head.bias', 'lm_head.layer_norm.bias']\n",
      "- This IS expected if you are initializing RobertaModel from the checkpoint of a model trained on another task or with another architecture (e.g. initializing a BertForSequenceClassification model from a BertForPreTraining model).\n",
      "- This IS NOT expected if you are initializing RobertaModel from the checkpoint of a model that you expect to be exactly identical (initializing a BertForSequenceClassification model from a BertForSequenceClassification model).\n",
      "Some weights of RobertaModel were not initialized from the model checkpoint at roberta-large and are newly initialized: ['roberta.pooler.dense.weight', 'roberta.pooler.dense.bias']\n",
      "You should probably TRAIN this model on a down-stream task to be able to use it for predictions and inference.\n"
     ]
    },
    {
     "name": "stdout",
     "output_type": "stream",
     "text": [
      "\n",
      "Original: বিরাট মানসিকভাবে শক্তিশালী, সমালোচনায় দমার নয় বলছেন কেপি\n",
      "Target: ঘরের মাঠে অনন্য নজির গড়লেন 'ঘরের ছেলে' রবিচন্দ্রন অশ্বিন\n",
      "Paraphrased: ।ি।ীদ্ধে প্রীদ্ধে ভারীনিতকপরিত:কীতরে কেপি শিখুনী করে লেখায় বিরাটমানকিছা, কথা।\n",
      "Similarity: 0.98 | Label: 0 | Predicted: 1\n",
      "\n",
      "✅ Accuracy: 0.50, Precision: 0.50, Recall: 0.80, F1: 0.62\n",
      "📊 Avg BERT: 0.83, ROUGE: 0.00, BLEU: 0.00, BART: 0.81\n"
     ]
    }
   ],
   "source": [
    "evaluate(dataset, threshold=0.75)"
   ]
  },
  {
   "cell_type": "markdown",
   "id": "97e298f3",
   "metadata": {},
   "source": [
    "## Comparetive Analysis by Generating Plots\n",
    "I ran this code on my Linux system for different thresholds and saved the results to generate the plots. I rewrote the code to run in a Jupyter notebook for better understanding; however, I was unable to implement some functions properly. I have attached the code without the Jupyter notebook as well. By the way, here are the plots for the analysis."
   ]
  },
  {
   "cell_type": "code",
   "execution_count": 21,
   "id": "c98508b1",
   "metadata": {},
   "outputs": [
    {
     "data": {
      "image/png": "[encoded data removed]",
      "text/plain": [
       "<Figure size 1000x600 with 1 Axes>"
      ]
     },
     "metadata": {},
     "output_type": "display_data"
    }
   ],
   "source": [
    "# Re-import libraries after state reset\n",
    "import matplotlib.pyplot as plt\n",
    "\n",
    "# Thresholds\n",
    "thresholds = [0.55, 0.65, 0.75, 0.85]\n",
    "\n",
    "# F1 scores and BERT scores for T5\n",
    "t5_f1 = [0.81, 0.72, 0.44, 0.06]\n",
    "t5_bert = [0.86, 0.86, 0.86, 0.86]\n",
    "\n",
    "# F1 scores and BERT scores for mBART\n",
    "mbart_f1 = [0.80, 0.79, 0.73, 0.73]\n",
    "mbart_bert = [0.75, 0.75, 0.75, 0.75]\n",
    "\n",
    "# Use an available elegant style\n",
    "plt.style.use('seaborn-v0_8-darkgrid')\n",
    "\n",
    "# Define colors\n",
    "t5_color = '#1f77b4'\n",
    "mbart_color = '#ff7f0e'\n",
    "\n",
    "# Plotting F1 scores\n",
    "plt.figure(figsize=(10, 6))\n",
    "plt.plot(thresholds, t5_f1, marker='o', linestyle='-', linewidth=2, color=t5_color, label='Bangla-T5')\n",
    "plt.plot(thresholds, mbart_f1, marker='s', linestyle='--', linewidth=2, color=mbart_color, label='mBART')\n",
    "plt.title('Performance Comparison (F1) of T5 and mBART Models for Plagiarism Detection at Various Thresholds', fontsize=16)\n",
    "plt.xlabel('Threshold', fontsize=14)\n",
    "plt.ylabel('F1 Score', fontsize=14)\n",
    "plt.xticks(thresholds, fontsize=12)\n",
    "plt.yticks(fontsize=12)\n",
    "plt.ylim(0, 1)\n",
    "plt.grid(True, linestyle='--', alpha=0.6)\n",
    "plt.legend(fontsize=12)\n",
    "plt.tight_layout()\n",
    "plt.show()\n"
   ]
  },
  {
   "cell_type": "markdown",
   "id": "a7de9901",
   "metadata": {},
   "source": [
    "## Plot 01\n",
    "This plot shows the F1 Score comparison between Bangla-T5 and mBART for plagiarism detection at different thresholds. As the threshold increases, Bangla-T5 performs worse (lower F1 score), while mBART remains almost constant. This is because Bangla-T5 is more sensitive to higher thresholds, making it less accurate in detecting paraphrases at stricter thresholds."
   ]
  },
  {
   "cell_type": "code",
   "execution_count": null,
   "id": "05bea81d",
   "metadata": {},
   "outputs": [
    {
     "data": {
      "image/png": "[encoded data removed]",
      "text/plain": [
       "<Figure size 1000x600 with 1 Axes>"
      ]
     },
     "metadata": {},
     "output_type": "display_data"
    }
   ],
   "source": [
    "# Plotting BERT scores\n",
    "plt.figure(figsize=(10, 6))\n",
    "plt.plot(thresholds, t5_bert, marker='o', linestyle='-', linewidth=2, color=t5_color, label='Bangla-T5')\n",
    "plt.plot(thresholds, mbart_bert, marker='s', linestyle='--', linewidth=2, color=mbart_color, label='mBART')\n",
    "plt.title('Performance Comparison (Bangla-BERT) of T5 and mBART Models for Plagiarism Detection at Various Thresholds', fontsize=16)\n",
    "plt.xlabel('Threshold', fontsize=14)\n",
    "plt.ylabel('BERT Score', fontsize=14)\n",
    "plt.xticks(thresholds, fontsize=12)\n",
    "plt.yticks(fontsize=12)\n",
    "plt.ylim(0.7, 0.9)\n",
    "plt.grid(True, linestyle='--', alpha=0.6)\n",
    "plt.legend(fontsize=12)\n",
    "plt.tight_layout()\n",
    "plt.show()"
   ]
  },
  {
   "cell_type": "markdown",
   "id": "4b9e883b",
   "metadata": {},
   "source": [
    "## Plot 02\n",
    "This plot shows the BERT similarity scores for paraphrases generated by Bangla-T5 and mBART across different thresholds. Bangla-T5 consistently achieves a higher BERT score (~0.86) compared to mBART (~0.75), regardless of the threshold. This means T5’s paraphrases are semantically closer to the original sentence.\n",
    "However, this does not always lead to better F1 scores, as seen in the earlier F1 plot.\n",
    "So, while T5 generates better paraphrases (higher BERT score), it performs worse on F1 at strict thresholds due to poor plagiarism classification.\n"
   ]
  },
  {
   "cell_type": "markdown",
   "id": "73db3b2e",
   "metadata": {},
   "source": [
    "## Conclusion\n",
    "In conclusion one observation I would like to share is that paraphrase generation did not significantly improve the results in this case. As we know, language models often struggle with low-resource languages like Bangla. However, better performance might be achieved by fine-tuning the language model and experimenting with different types of prompting strategies."
   ]
  }
 ],
 "metadata": {
  "kernelspec": {
   "display_name": "Python 3",
   "language": "python",
   "name": "python3"
  },
  "language_info": {
   "codemirror_mode": {
    "name": "ipython",
    "version": 3
   },
   "file_extension": ".py",
   "mimetype": "text/x-python",
   "name": "python",
   "nbconvert_exporter": "python",
   "pygments_lexer": "ipython3",
   "version": "3.9.6"
  }
 },
 "nbformat": 4,
 "nbformat_minor": 5
}
